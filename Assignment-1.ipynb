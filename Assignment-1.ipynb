{
  "nbformat": 4,
  "nbformat_minor": 0,
  "metadata": {
    "colab": {
      "name": "Untitled1.ipynb",
      "provenance": [],
      "collapsed_sections": []
    },
    "kernelspec": {
      "name": "python3",
      "display_name": "Python 3"
    },
    "language_info": {
      "name": "python"
    }
  },
  "cells": [
    {
      "cell_type": "code",
      "metadata": {
        "colab": {
          "base_uri": "https://localhost:8080/",
          "height": 306
        },
        "id": "aLjmMzvSpakP",
        "outputId": "2b0b38b2-3b89-4157-c57f-ab58d1083ed4"
      },
      "source": [
        "class Book:\n",
        "    #Question 2\n",
        "    def __init__(self, isbn,title,author,publisher,pages,price,copies):\n",
        "        self.isbn = isbn\n",
        "        self.title = title\n",
        "        self.author = author\n",
        "        self.publisher = publisher\n",
        "        self.pages = pages\n",
        "        self.price = price\n",
        "        self.copies = copies\n",
        "    \n",
        "    def display(self):\n",
        "      print(self.isbn,self.title,self.author,self.publisher,self.price,self.copies)\n",
        "\n",
        "\n",
        "    #Question3\n",
        "    def in_stock(self):\n",
        "      if self.copies >0:\n",
        "        return True\n",
        "      else:\n",
        "         return False\n",
        "\n",
        "    def sell(self):\n",
        "      if self.in_stock():\n",
        "        self.copies = self.copies-1 \n",
        "      else:\n",
        "        print(\"Book is out of stock\")\n",
        "\n",
        "    #Question 5\n",
        "    @property\n",
        "    def price(self):\n",
        "       return self._price\n",
        " \n",
        "    @price.setter\n",
        "    def price(self, new_price):\n",
        "      if 50 <= new_price <= 1000:\n",
        "          self._price = new_price\n",
        "      else:\n",
        "           raise ValueError ('Price cannot be less than 10 or more than 500')\n",
        "\n",
        "#Question 6\n",
        "class Fraction:\n",
        "    def __init__(self,nr,dr=1):\n",
        "      self.nr = nr\n",
        "      self.dr =dr\n",
        "      if self.dr<0:\n",
        "        self.dr = self.dr*(-1)\n",
        "        self.nr = self.nr*(-1)\n",
        "    \n",
        "    def show(self):\n",
        "      print(self.nr,\"/\",self.dr)\n",
        "\n",
        "    def multiply(self,other):\n",
        "        if isinstance(other,int):\n",
        "            other = Fraction(other)\n",
        "        return Fraction(self.nr * other.nr , self.dr * other.dr)\n",
        "    def add(self,other):\n",
        "      if isinstance(other,int):\n",
        "        other = Fraction(other)\n",
        "      return Fraction(self.nr + other.nr , self.dr + self.dr)\n",
        "\n",
        "#Question 8\n",
        "class Product():\n",
        "    def __init__(self, id, marked_price, discount):\n",
        "        self.id = id\n",
        "        self.marked_price = marked_price\n",
        "        self.discount = discount\n",
        "    \n",
        "    def display(self):\n",
        "        print(self.id,  self.marked_price,  self.discount)\n",
        "\n",
        "    @property\n",
        "    def selling_price(self):\n",
        "        return self.marked_price - 0.01 * self.discount * self.marked_price\n",
        "    \n",
        "    @property\n",
        "    def discount(self):\n",
        "        return self._discount+2 if self.marked_price > 500 else self._discount\n",
        " \n",
        "    @discount.setter\n",
        "    def discount(self, new_discount):\n",
        "        self._discount = new_discount\n",
        "\n",
        "\n",
        "    def display(self):\n",
        "        print(self.id,  self.marked_price,  self.discount)\n",
        "\n",
        "\n",
        "\n",
        "class Circle:\n",
        "    def __init__(self,radius):\n",
        "       self.radius = radius\n",
        "    \n",
        "    @property\n",
        "    def diameter(self):\n",
        "      return self.radius*2\n",
        "\n",
        "    @property\n",
        "    def circumference(self):\n",
        "      return self.radius*2*3.14\n",
        "\n",
        "   \n",
        "    def area(self):\n",
        "      return 3.14*self.radius*self.radius\n",
        "\n",
        "\n",
        "\n",
        "\n",
        "    \n",
        "p1 = Product('X879', 400, 6)\n",
        "p2 = Product('A234', 100, 5)\n",
        "p3 = Product('B987', 990, 4)\n",
        "p4 = Product('H456', 800, 6)\n",
        "\n",
        "print(p1.id, p1.selling_price)\n",
        "print(p2.id, p2.selling_price)\n",
        "print(p3.id, p3.selling_price)\n",
        "print(p4.id, p4.selling_price)\n",
        "\n",
        "p4.discount = 10\n",
        "print(p4.id, p4.selling_price)   \n",
        "\n",
        "f1 = Fraction(2,3)\n",
        "f1.show()\n",
        "f2 = Fraction(3,4)\n",
        "f2.show()\n",
        "f3 = f1.multiply(f2)\n",
        "f3.show()\n",
        "f3 = f1.add(f2)\n",
        "f3.show()\n",
        "f3 = f1.add(5) \n",
        "f3.show()\n",
        "f3 = f1.multiply(5) \n",
        "f3.show()\n",
        "\n",
        "\n",
        "\n",
        "\n",
        "#Question 2\n",
        "book1 = Book('957-4-36-547417-1', 'Learn Physics','Stephen', 'CBC', 350, 200,10)\n",
        "book2 = Book('652-6-86-748413-3', 'Learn Chemistry','Jack', 'CBC', 400, 220,20)\n",
        "book3 = Book('957-7-39-347216-2', 'Learn Maths','John', 'XYZ', 500, 300,5)\n",
        "book4 = Book('957-7-39-347216-2', 'Learn Biology','Jack', 'XYZ', 400, 200,6)        \n",
        "\n",
        "#Question 4 \n",
        "books =[book1,book2,book3,book4]\n",
        "for book in books:\n",
        "  display(book)\n",
        "\n",
        "jack_books = [book.title for book in books if book.author==\"Jack\"]\n",
        "print(jack_books)\n",
        "\n",
        "\n",
        "c1 = Circle(7)\n",
        "print( c1.radius, c1.diameter, c1.circumference, c1.area())\n",
        "    "
      ],
      "execution_count": 11,
      "outputs": [
        {
          "output_type": "stream",
          "text": [
            "X879 376.0\n",
            "A234 95.0\n",
            "B987 930.6\n",
            "H456 736.0\n",
            "H456 704.0\n",
            "2 / 3\n",
            "3 / 4\n",
            "6 / 12\n",
            "5 / 6\n",
            "7 / 6\n",
            "10 / 3\n"
          ],
          "name": "stdout"
        },
        {
          "output_type": "display_data",
          "data": {
            "text/plain": [
              "<__main__.Book at 0x7f7911f56490>"
            ]
          },
          "metadata": {
            "tags": []
          }
        },
        {
          "output_type": "display_data",
          "data": {
            "text/plain": [
              "<__main__.Book at 0x7f7911f52b90>"
            ]
          },
          "metadata": {
            "tags": []
          }
        },
        {
          "output_type": "display_data",
          "data": {
            "text/plain": [
              "<__main__.Book at 0x7f7911f52b10>"
            ]
          },
          "metadata": {
            "tags": []
          }
        },
        {
          "output_type": "display_data",
          "data": {
            "text/plain": [
              "<__main__.Book at 0x7f7911f52bd0>"
            ]
          },
          "metadata": {
            "tags": []
          }
        },
        {
          "output_type": "stream",
          "text": [
            "['Learn Chemistry', 'Learn Biology']\n",
            "7 14 43.96 153.86\n"
          ],
          "name": "stdout"
        }
      ]
    }
  ]
}