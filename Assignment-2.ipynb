{
  "nbformat": 4,
  "nbformat_minor": 0,
  "metadata": {
    "colab": {
      "name": "Untitled2.ipynb",
      "provenance": [],
      "collapsed_sections": []
    },
    "kernelspec": {
      "name": "python3",
      "display_name": "Python 3"
    },
    "language_info": {
      "name": "python"
    }
  },
  "cells": [
    {
      "cell_type": "markdown",
      "metadata": {
        "id": "8OhFXec5lMDx"
      },
      "source": [
        "# Question 1-2-3"
      ]
    },
    {
      "cell_type": "code",
      "metadata": {
        "colab": {
          "base_uri": "https://localhost:8080/"
        },
        "id": "E4cqFfMNjR_B",
        "outputId": "ae93f13f-645b-40be-8eb5-1b6dbf4487c3"
      },
      "source": [
        "\n",
        "\n",
        "class SalesPerson:\n",
        "  total_revenue=0\n",
        "  names = []\n",
        "\n",
        "  def __init__(self,name,age):\n",
        "        self.name = name\n",
        "        self.age = age\n",
        "        self.sales_amount = 0\n",
        "        SalesPerson.names.append(name)\n",
        "\n",
        "  def make_sale(self,money):\n",
        "        self.sales_amount += money\n",
        "        SalesPerson.total_revenue += money\n",
        "\n",
        "  def show(self):\n",
        "        print(self.name, self.age, self.sales_amount)\n",
        " \n",
        " \n",
        "s1 = SalesPerson('Bob', 25)\n",
        "s2 = SalesPerson('Ted', 22)\n",
        "s3 = SalesPerson('Jack', 27)\n",
        " \n",
        "s1.make_sale(1000)\n",
        "s1.make_sale(1200)\n",
        "s2.make_sale(5000)\n",
        "s3.make_sale(3000)\n",
        "s3.make_sale(8000)\n",
        " \n",
        "s1.show()\n",
        "s2.show()\n",
        "s3.show()\n",
        "\n",
        "\n",
        "print(SalesPerson.total_revenue)\n",
        "print(SalesPerson.names)\n",
        "  \n",
        "  "
      ],
      "execution_count": 1,
      "outputs": [
        {
          "output_type": "stream",
          "text": [
            "Bob 25 2200\n",
            "Ted 22 5000\n",
            "Jack 27 11000\n",
            "18200\n",
            "['Bob', 'Ted', 'Jack']\n"
          ],
          "name": "stdout"
        }
      ]
    },
    {
      "cell_type": "markdown",
      "metadata": {
        "id": "PZTZyGSNk5DR"
      },
      "source": [
        "## Question-4"
      ]
    },
    {
      "cell_type": "code",
      "metadata": {
        "id": "X63moptrlAs4",
        "colab": {
          "base_uri": "https://localhost:8080/",
          "height": 367
        },
        "outputId": "511832d9-f0e6-4559-c74e-ce987ec09d52"
      },
      "source": [
        "class Employee: \n",
        "     domains = set()\n",
        "     allowed_domains = {'yahoo.com','gmail.com','outlook.com'}\n",
        "     def __init__(self,name,email):\n",
        "        self.name = name\n",
        "        self.email = email\n",
        "        domain = email[email.index('@')+1: ]\n",
        "        Employee.domains.add(domain)\n",
        "   \n",
        "     def display(self):\n",
        "        print(self.name, self.email)\n",
        "        \n",
        "     @property\n",
        "     def email(self):\n",
        "        return self._email\n",
        " \n",
        "     @email.setter\n",
        "     def email(self, new_email):\n",
        "        domain = new_email[new_email.index('@')+1 : ]\n",
        "        if domain in Employee.allowed_domains:\n",
        "          self._email = new_email\n",
        "        else:\n",
        "            raise RuntimeError(f'Domain {domain} is not allowed')\n",
        "            \n",
        "e1 = Employee('John','john@gmail.com')\n",
        "e2 = Employee('Jack','jack@yahoo.com')\n",
        "e3 = Employee('Jill','jill@outlook.com')\n",
        "e4 = Employee('Ted','ted@yahoo.com')\n",
        "e5 = Employee('Tim','tim@gmail.com')\n",
        "e6 = Employee('Mike','mike@yahoo.com')\n",
        "\n",
        " \n",
        "print(Employee.domains)\n",
        "\n",
        "e4.email = 'ted@ymail.com'\n",
        "e4.display()\n",
        " \n",
        "e3.email = 'jill@gmail.com'\n",
        "e3.display()"
      ],
      "execution_count": 14,
      "outputs": [
        {
          "output_type": "stream",
          "text": [
            "{'gmail.com', 'outlook.com', 'yahoo.com'}\n"
          ],
          "name": "stdout"
        },
        {
          "output_type": "error",
          "ename": "RuntimeError",
          "evalue": "ignored",
          "traceback": [
            "\u001b[0;31m---------------------------------------------------------------------------\u001b[0m",
            "\u001b[0;31mRuntimeError\u001b[0m                              Traceback (most recent call last)",
            "\u001b[0;32m<ipython-input-14-67d9566948e4>\u001b[0m in \u001b[0;36m<module>\u001b[0;34m()\u001b[0m\n\u001b[1;32m     33\u001b[0m \u001b[0mprint\u001b[0m\u001b[0;34m(\u001b[0m\u001b[0mEmployee\u001b[0m\u001b[0;34m.\u001b[0m\u001b[0mdomains\u001b[0m\u001b[0;34m)\u001b[0m\u001b[0;34m\u001b[0m\u001b[0;34m\u001b[0m\u001b[0m\n\u001b[1;32m     34\u001b[0m \u001b[0;34m\u001b[0m\u001b[0m\n\u001b[0;32m---> 35\u001b[0;31m \u001b[0me4\u001b[0m\u001b[0;34m.\u001b[0m\u001b[0memail\u001b[0m \u001b[0;34m=\u001b[0m \u001b[0;34m'ted@ymail.com'\u001b[0m\u001b[0;34m\u001b[0m\u001b[0;34m\u001b[0m\u001b[0m\n\u001b[0m\u001b[1;32m     36\u001b[0m \u001b[0me4\u001b[0m\u001b[0;34m.\u001b[0m\u001b[0mdisplay\u001b[0m\u001b[0;34m(\u001b[0m\u001b[0;34m)\u001b[0m\u001b[0;34m\u001b[0m\u001b[0;34m\u001b[0m\u001b[0m\n\u001b[1;32m     37\u001b[0m \u001b[0;34m\u001b[0m\u001b[0m\n",
            "\u001b[0;32m<ipython-input-14-67d9566948e4>\u001b[0m in \u001b[0;36memail\u001b[0;34m(self, new_email)\u001b[0m\n\u001b[1;32m     21\u001b[0m           \u001b[0mself\u001b[0m\u001b[0;34m.\u001b[0m\u001b[0m_email\u001b[0m \u001b[0;34m=\u001b[0m \u001b[0mnew_email\u001b[0m\u001b[0;34m\u001b[0m\u001b[0;34m\u001b[0m\u001b[0m\n\u001b[1;32m     22\u001b[0m         \u001b[0;32melse\u001b[0m\u001b[0;34m:\u001b[0m\u001b[0;34m\u001b[0m\u001b[0;34m\u001b[0m\u001b[0m\n\u001b[0;32m---> 23\u001b[0;31m             \u001b[0;32mraise\u001b[0m \u001b[0mRuntimeError\u001b[0m\u001b[0;34m(\u001b[0m\u001b[0;34mf'Domain {domain} is not allowed'\u001b[0m\u001b[0;34m)\u001b[0m\u001b[0;34m\u001b[0m\u001b[0;34m\u001b[0m\u001b[0m\n\u001b[0m\u001b[1;32m     24\u001b[0m \u001b[0;34m\u001b[0m\u001b[0m\n\u001b[1;32m     25\u001b[0m \u001b[0me1\u001b[0m \u001b[0;34m=\u001b[0m \u001b[0mEmployee\u001b[0m\u001b[0;34m(\u001b[0m\u001b[0;34m'John'\u001b[0m\u001b[0;34m,\u001b[0m\u001b[0;34m'john@gmail.com'\u001b[0m\u001b[0;34m)\u001b[0m\u001b[0;34m\u001b[0m\u001b[0;34m\u001b[0m\u001b[0m\n",
            "\u001b[0;31mRuntimeError\u001b[0m: Domain ymail.com is not allowed"
          ]
        }
      ]
    },
    {
      "cell_type": "markdown",
      "metadata": {
        "id": "Z1mSXFK4ey6f"
      },
      "source": [
        "## **Question 5-6**"
      ]
    },
    {
      "cell_type": "code",
      "metadata": {
        "colab": {
          "base_uri": "https://localhost:8080/"
        },
        "id": "AEYqF9TAvDAh",
        "outputId": "4b6fcb54-42bd-43ec-b225-90e111f032a6"
      },
      "source": [
        "class Stack:\n",
        " \n",
        "    MAX_SIZE = 5\n",
        "        \n",
        "    def __init__(self):\n",
        "        self.items = []\n",
        " \n",
        "    def is_empty(self):\n",
        "        return self.items == []\n",
        " \n",
        "    def size(self):\n",
        "        return len(self.items)\n",
        " \n",
        "    def push(self, item):\n",
        "        if self.size() == Stack.MAX_SIZE:\n",
        "            raise RuntimeError('Stack is full')\n",
        "        self.items.append(item)\n",
        " \n",
        "    def pop(self):\n",
        "        if self.is_empty():\n",
        "            raise RuntimeError(\"Stack is empty\")\n",
        "        return self.items.pop()\n",
        "    \n",
        "    def display(self):\n",
        "        print(self.items)\n",
        " \n",
        " \n",
        "if __name__ == \"__main__\":\n",
        "    st = Stack()\n",
        " \n",
        "    while True:\n",
        "        print(\"1.Push\") \n",
        "        print(\"2.Pop\") \n",
        "        print(\"3.Peek\") \n",
        "        print(\"4.Size\")\n",
        "        print(\"5.Display\") \n",
        "        print(\"6.Quit\")\n",
        "         \n",
        "        choice = int(input(\"Enter your choice : \"))\n",
        " \n",
        "        if choice == 1:\n",
        "            x=int(input(\"Enter the element to be pushed : \"))\n",
        "            st.push(x) \n",
        "        elif choice == 2:\n",
        "            x=st.pop() \n",
        "            print(\"Popped element is : \" , x) \n",
        "        elif choice == 3:\n",
        "            print(\"Element at the top is : \" , st.peek()) \n",
        "        elif choice == 4:\n",
        "            print(\"Size of stack \" , st.size()) \n",
        "        elif choice == 5:\n",
        "            st.display()         \n",
        "        elif choice == 6:\n",
        "          break;\n",
        "        else:\n",
        "          print(\"Wrong choice\") \n",
        "        print() "
      ],
      "execution_count": 33,
      "outputs": [
        {
          "output_type": "stream",
          "text": [
            "1.Push\n",
            "2.Pop\n",
            "3.Peek\n",
            "4.Size\n",
            "5.Display\n",
            "6.Quit\n",
            "Enter your choice : 1\n",
            "Enter the element to be pushed : 1\n",
            "\n",
            "1.Push\n",
            "2.Pop\n",
            "3.Peek\n",
            "4.Size\n",
            "5.Display\n",
            "6.Quit\n",
            "Enter your choice : 5\n",
            "[1]\n",
            "\n",
            "1.Push\n",
            "2.Pop\n",
            "3.Peek\n",
            "4.Size\n",
            "5.Display\n",
            "6.Quit\n",
            "Enter your choice : 4\n",
            "Size of stack  1\n",
            "\n",
            "1.Push\n",
            "2.Pop\n",
            "3.Peek\n",
            "4.Size\n",
            "5.Display\n",
            "6.Quit\n",
            "Enter your choice : 1\n",
            "Enter the element to be pushed : 2\n",
            "\n",
            "1.Push\n",
            "2.Pop\n",
            "3.Peek\n",
            "4.Size\n",
            "5.Display\n",
            "6.Quit\n",
            "Enter your choice : 5\n",
            "[1, 2]\n",
            "\n",
            "1.Push\n",
            "2.Pop\n",
            "3.Peek\n",
            "4.Size\n",
            "5.Display\n",
            "6.Quit\n",
            "Enter your choice : 1\n",
            "Enter the element to be pushed : 3\n",
            "\n",
            "1.Push\n",
            "2.Pop\n",
            "3.Peek\n",
            "4.Size\n",
            "5.Display\n",
            "6.Quit\n",
            "Enter your choice : 5\n",
            "[1, 2, 3]\n",
            "\n",
            "1.Push\n",
            "2.Pop\n",
            "3.Peek\n",
            "4.Size\n",
            "5.Display\n",
            "6.Quit\n",
            "Enter your choice : 2\n",
            "Popped element is :  3\n",
            "\n",
            "1.Push\n",
            "2.Pop\n",
            "3.Peek\n",
            "4.Size\n",
            "5.Display\n",
            "6.Quit\n",
            "Enter your choice : 5\n",
            "[1, 2]\n",
            "\n",
            "1.Push\n",
            "2.Pop\n",
            "3.Peek\n",
            "4.Size\n",
            "5.Display\n",
            "6.Quit\n",
            "Enter your choice : 6\n"
          ],
          "name": "stdout"
        }
      ]
    },
    {
      "cell_type": "markdown",
      "metadata": {
        "id": "73iM0-e5z1w8"
      },
      "source": [
        "# Question-7"
      ]
    },
    {
      "cell_type": "code",
      "metadata": {
        "colab": {
          "base_uri": "https://localhost:8080/"
        },
        "id": "lNiM4OpOz4m9",
        "outputId": "0b0d6898-cc27-4111-cff6-285f14c6a883"
      },
      "source": [
        "class BankAccount:\n",
        " \n",
        "    bank_name ='ABC bank, XYZ Street, New Delhi'\n",
        "    def __init__(self, name, balance=0, bank=bank_name):\n",
        "        self.name = name\n",
        "        self.balance = balance\n",
        "        \n",
        "    def display(self):\n",
        "         print(self.name, self.balance)\n",
        " \n",
        "    def withdraw(self, amount):\n",
        "        self.balance -= amount\n",
        " \n",
        "    def deposit(self, amount):\n",
        "        self.balance += amount\n",
        "    \n",
        "a1 = BankAccount('Mike', 200 ,  'PQR Bank Delhi')\n",
        "a2 = BankAccount('Tom')\n",
        " \n",
        "a1.display()\n",
        "a2.display()"
      ],
      "execution_count": 35,
      "outputs": [
        {
          "output_type": "stream",
          "text": [
            "Mike 200\n",
            "Tom 0\n"
          ],
          "name": "stdout"
        }
      ]
    },
    {
      "cell_type": "code",
      "metadata": {
        "id": "VgHwGrBD0r85"
      },
      "source": [
        ""
      ],
      "execution_count": null,
      "outputs": []
    }
  ]
}