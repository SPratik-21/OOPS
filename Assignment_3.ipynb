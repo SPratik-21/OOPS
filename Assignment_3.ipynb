{
  "nbformat": 4,
  "nbformat_minor": 0,
  "metadata": {
    "colab": {
      "name": "Assignment-3.ipynb",
      "provenance": []
    },
    "kernelspec": {
      "name": "python3",
      "display_name": "Python 3"
    },
    "language_info": {
      "name": "python"
    }
  },
  "cells": [
    {
      "cell_type": "markdown",
      "metadata": {
        "id": "rqMv6TVYHN63"
      },
      "source": [
        "# **Question-1**"
      ]
    },
    {
      "cell_type": "code",
      "metadata": {
        "colab": {
          "base_uri": "https://localhost:8080/"
        },
        "id": "XVrXoP2_Grid",
        "outputId": "8d0046fc-a88e-4a8a-9c00-bfae6eb0d38a"
      },
      "source": [
        "class Time:\n",
        "    def __init__(self,h,m,s):\n",
        "        self._h = h \n",
        "        self._m = m\n",
        "        self._s = h\n",
        "\n",
        "    \n",
        " \n",
        "    #Read-only field accessors\n",
        "    @property\n",
        "    def hours(self):\n",
        "        return self._h\n",
        " \n",
        "    @property\n",
        "    def minutes(self):\n",
        "        return self._m\n",
        " \n",
        "    @property\n",
        "    def seconds(self):\n",
        "        return self._s\n",
        "\n",
        "    def __eq__(self,other):\n",
        "      return True if _cmp(self,other)==0 else False\n",
        "\n",
        "    def __lt__(self,other):\n",
        "      return True if _cmp(self,other)==1 else False\n",
        "\n",
        "    def __le__(self,other):\n",
        "      return True if (_cmp(self,other)==0  or _cmp(self,other)==0) else False        \n",
        " \n",
        "def _cmp(time1,time2):\n",
        "    if time1._h < time2._h:\n",
        "        return 1\n",
        "    if time1._h > time2._h:\n",
        "        return -1\n",
        "    if time1._m < time2._m:\n",
        "        return 1\n",
        "    if time1._m > time2._m:\n",
        "        return -1\n",
        "    if time1._s < time2._s:\n",
        "        return 1\n",
        "    if time1._s > time2._s:\n",
        "        return -1\n",
        "    return 0\n",
        "\n",
        "\n",
        "       \n",
        "t1 = Time(13, 10, 5)\n",
        "t2 = Time(5, 15, 30)\n",
        "t3 = Time(5, 15, 30)\n",
        "print(t1 < t2)\n",
        "print(t1 > t2)\n",
        "print(t1 == t2)\n",
        "print(t2 == t3)\n"
      ],
      "execution_count": 2,
      "outputs": [
        {
          "output_type": "stream",
          "text": [
            "False\n",
            "True\n",
            "False\n",
            "True\n"
          ],
          "name": "stdout"
        }
      ]
    },
    {
      "cell_type": "markdown",
      "metadata": {
        "id": "_mZpMjp1JGyi"
      },
      "source": [
        "## Question 3"
      ]
    },
    {
      "cell_type": "code",
      "metadata": {
        "colab": {
          "base_uri": "https://localhost:8080/"
        },
        "id": "ngh4PipwIpmT",
        "outputId": "b66ed6bb-ec2a-495e-8ce9-b32c54494021"
      },
      "source": [
        "class Length:\n",
        "    def __init__(self, feet, inches):\n",
        "        self.feet = feet  \n",
        "        self.inches = inches\n",
        " \n",
        "    def __str__(self):\n",
        "        return f'{self.feet} {self.inches}'\n",
        " \n",
        "    def add_length(self,L):\n",
        "       f = self.feet + L.feet\n",
        "       i = self.inches + L.inches\n",
        "       if i >= 12:\n",
        "           i = i - 12\n",
        "       f += 1\n",
        "       return Length(f, i)\n",
        " \n",
        "    def add_inches(self,inches):\n",
        "       f = self.feet + inches // 12\n",
        "       i = self.inches + inches % 12\n",
        "       if i >= 12:\n",
        "           i = i - 12\n",
        "       f += 1\n",
        "       return Length(f, i)\n",
        "\n",
        "    def __add__(self,other):\n",
        "      if isinstance(other, Length):\n",
        "            return self.add_length(other)\n",
        "      if isinstance(other,int):\n",
        "            return self.add_inches(other)\n",
        "      else:\n",
        "            return NotImplemented\n",
        " \n",
        "    def __radd__(self,other):\n",
        "      return self.__add__(other)\n",
        " \n",
        "\n",
        "\n",
        "  \n",
        " \n",
        "length1 = Length(2,10)\n",
        "length2 = Length(3,5)\n",
        "    \n",
        "print(length1 + length2)\n",
        "print(length1 + 2)\n",
        "print(length1 + 20)\n",
        "print(20 + length1)"
      ],
      "execution_count": 3,
      "outputs": [
        {
          "output_type": "stream",
          "text": [
            "6 3\n",
            "3 0\n",
            "4 6\n",
            "4 6\n"
          ],
          "name": "stdout"
        }
      ]
    },
    {
      "cell_type": "code",
      "metadata": {
        "id": "Y-2NxGskJLyf"
      },
      "source": [
        ""
      ],
      "execution_count": null,
      "outputs": []
    }
  ]
}